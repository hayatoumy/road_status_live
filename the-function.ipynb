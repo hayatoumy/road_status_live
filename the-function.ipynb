{
 "cells": [
  {
   "cell_type": "markdown",
   "metadata": {},
   "source": [
    "### The setup"
   ]
  },
  {
   "cell_type": "code",
   "execution_count": 36,
   "metadata": {},
   "outputs": [],
   "source": [
    "import requests\n",
    "import json \n",
    "import pandas as pd\n",
    "from time import sleep"
   ]
  },
  {
   "cell_type": "code",
   "execution_count": 37,
   "metadata": {},
   "outputs": [
    {
     "data": {
      "text/plain": [
       "'/Users/hayatoumy/Documents/GA files/git_lessons/project_4'"
      ]
     },
     "execution_count": 37,
     "metadata": {},
     "output_type": "execute_result"
    }
   ],
   "source": [
    "%pwd"
   ]
  },
  {
   "cell_type": "code",
   "execution_count": 38,
   "metadata": {},
   "outputs": [],
   "source": [
    "with open('./consumer_key.txt') as f1:\n",
    "    consumer_key = f1.read().strip()\n",
    "\n",
    "with open('./consumer_secret.txt') as f2:\n",
    "    consumer_secret = f2.read().strip()\n",
    "\n",
    "with open('./access_token.txt') as f3:\n",
    "    access_token = f3.read().strip()\n",
    "\n",
    "with open('./access_token_secret.txt') as f4:\n",
    "    access_token_secret = f4.read().strip()"
   ]
  },
  {
   "cell_type": "code",
   "execution_count": 39,
   "metadata": {},
   "outputs": [],
   "source": [
    "import tweepy\n",
    "\n",
    "auth = tweepy.OAuthHandler(consumer_key, consumer_secret)\n",
    "auth.set_access_token(access_token, access_token_secret)\n",
    "\n",
    "api = tweepy.API(auth, wait_on_rate_limit=True)"
   ]
  },
  {
   "cell_type": "markdown",
   "metadata": {},
   "source": [
    "### The cities name and Twitter usernames data frames"
   ]
  },
  {
   "cell_type": "code",
   "execution_count": 4,
   "metadata": {},
   "outputs": [],
   "source": [
    "from bs4 import BeautifulSoup"
   ]
  },
  {
   "cell_type": "markdown",
   "metadata": {},
   "source": [
    "Gathering the most flooded cities in the US from the link below. <br /> \n",
    "Gathering the traffic Twitter usernames for each of these cities manually. <br />\n",
    "Putting them together in a data frame for quick retreival. "
   ]
  },
  {
   "cell_type": "code",
   "execution_count": 5,
   "metadata": {},
   "outputs": [],
   "source": [
    "flood_url = 'https://www.cheatsheet.com/culture/american-cities-homes-danger-flooding.html/'"
   ]
  },
  {
   "cell_type": "code",
   "execution_count": 6,
   "metadata": {},
   "outputs": [],
   "source": [
    "flood_content = requests.get(flood_url)"
   ]
  },
  {
   "cell_type": "code",
   "execution_count": 7,
   "metadata": {},
   "outputs": [],
   "source": [
    "flood_soup = BeautifulSoup(flood_content.content, 'lxml')"
   ]
  },
  {
   "cell_type": "code",
   "execution_count": 14,
   "metadata": {},
   "outputs": [],
   "source": [
    "cities = []\n",
    "for h in flood_soup.find_all('h2'):\n",
    "#     print(h.text.split('.')[1:])\n",
    "#     print(\"\".join(h.text.split('.')[1:]))\n",
    "    cities.append(\"\".join(h.text.split('.')[1:]))"
   ]
  },
  {
   "cell_type": "code",
   "execution_count": 15,
   "metadata": {},
   "outputs": [
    {
     "data": {
      "text/plain": [
       "8"
      ]
     },
     "execution_count": 15,
     "metadata": {},
     "output_type": "execute_result"
    }
   ],
   "source": [
    "# cleaning up the city names and location:\n",
    "cities.index(' St Augustine')"
   ]
  },
  {
   "cell_type": "code",
   "execution_count": 16,
   "metadata": {},
   "outputs": [],
   "source": [
    "# adding the state to St Augustine\n",
    "cities[8] = \" St Augustine, Florida\""
   ]
  },
  {
   "cell_type": "code",
   "execution_count": 17,
   "metadata": {},
   "outputs": [
    {
     "data": {
      "text/plain": [
       "['Pahrump, Nevada',\n",
       " 'Jersey City, New Jersey',\n",
       " 'Plano, Texas',\n",
       " 'Peachtree Corners, Georgia',\n",
       " 'Miramar Beach, Florida',\n",
       " 'Raleigh, North Carolina',\n",
       " 'Rogers City, Arkansas',\n",
       " 'Carmel, Indiana',\n",
       " 'St Augustine, Florida',\n",
       " 'The Woodlands, Texas',\n",
       " 'Round Rock, Texas',\n",
       " 'Denton, Texas',\n",
       " 'Kissimmee, Florida',\n",
       " 'San Marcos, Texas',\n",
       " 'Sugar Land, Texas']"
      ]
     },
     "execution_count": 17,
     "metadata": {},
     "output_type": "execute_result"
    }
   ],
   "source": [
    "cities = [i.strip() for i in cities]\n",
    "cities"
   ]
  },
  {
   "cell_type": "code",
   "execution_count": 18,
   "metadata": {},
   "outputs": [],
   "source": [
    "twitter_user_names = [\n",
    "    [\"nevadadot\"],\n",
    "    [\"NJDOT_info\", \"511nyNJ\"],\n",
    "    [\"TotalTrafficDFW\", \"krldtraffic\", \"NTTATravelAlert\", \"cityofplanotx\"],\n",
    "    [\"PtreeCorners\"],\n",
    "    [\"fl511_panhandl\"],\n",
    "    [\"TotalTrafficRDU\", \"NCDOT_Triangle\", \"NCDOT\", \"RW911\", \"NCDOT_I77\"],\n",
    "    [\"myARDOT\", \"traffic_nwa\", \"myARDOT\"],\n",
    "    [\"QCTrafficAlerts\", \"WIBCTraffic\"],\n",
    "    [\"fl511_northeast\", \"SJSOPIO\"],\n",
    "    [\"ih45n_traffic\", \"KPRC2Traffic\", \"TownshipTransit\"],\n",
    "    [\"roundrock\"],\n",
    "    [\"DentonTweets\", \"ScannerRadioDFW\", \"DFWscanner\"],\n",
    "    [\"fl511_central\", \"MyNews13Traffic\", \"fl511_state\"],\n",
    "    [\"TxDOT\", \"TotalTrafficAUS\"],\n",
    "    [\"SugarLandtxgov\", \"houstontranstar\", \"TotalTrafficHOU\"]\n",
    "    \n",
    "]"
   ]
  },
  {
   "cell_type": "code",
   "execution_count": 19,
   "metadata": {},
   "outputs": [],
   "source": [
    "data_f = pd.DataFrame(twitter_user_names).T"
   ]
  },
  {
   "cell_type": "code",
   "execution_count": 22,
   "metadata": {},
   "outputs": [
    {
     "data": {
      "text/html": [
       "<div>\n",
       "<style scoped>\n",
       "    .dataframe tbody tr th:only-of-type {\n",
       "        vertical-align: middle;\n",
       "    }\n",
       "\n",
       "    .dataframe tbody tr th {\n",
       "        vertical-align: top;\n",
       "    }\n",
       "\n",
       "    .dataframe thead th {\n",
       "        text-align: right;\n",
       "    }\n",
       "</style>\n",
       "<table border=\"1\" class=\"dataframe\">\n",
       "  <thead>\n",
       "    <tr style=\"text-align: right;\">\n",
       "      <th></th>\n",
       "      <th>Pahrump, Nevada</th>\n",
       "      <th>Jersey City, New Jersey</th>\n",
       "      <th>Plano, Texas</th>\n",
       "      <th>Peachtree Corners, Georgia</th>\n",
       "      <th>Miramar Beach, Florida</th>\n",
       "      <th>Raleigh, North Carolina</th>\n",
       "      <th>Rogers City, Arkansas</th>\n",
       "      <th>Carmel, Indiana</th>\n",
       "      <th>St Augustine, Florida</th>\n",
       "      <th>The Woodlands, Texas</th>\n",
       "      <th>Round Rock, Texas</th>\n",
       "      <th>Denton, Texas</th>\n",
       "      <th>Kissimmee, Florida</th>\n",
       "      <th>San Marcos, Texas</th>\n",
       "      <th>Sugar Land, Texas</th>\n",
       "    </tr>\n",
       "  </thead>\n",
       "  <tbody>\n",
       "    <tr>\n",
       "      <th>0</th>\n",
       "      <td>nevadadot</td>\n",
       "      <td>NJDOT_info</td>\n",
       "      <td>TotalTrafficDFW</td>\n",
       "      <td>PtreeCorners</td>\n",
       "      <td>fl511_panhandl</td>\n",
       "      <td>TotalTrafficRDU</td>\n",
       "      <td>myARDOT</td>\n",
       "      <td>QCTrafficAlerts</td>\n",
       "      <td>fl511_northeast</td>\n",
       "      <td>ih45n_traffic</td>\n",
       "      <td>roundrock</td>\n",
       "      <td>DentonTweets</td>\n",
       "      <td>fl511_central</td>\n",
       "      <td>TxDOT</td>\n",
       "      <td>SugarLandtxgov</td>\n",
       "    </tr>\n",
       "    <tr>\n",
       "      <th>1</th>\n",
       "      <td>None</td>\n",
       "      <td>511nyNJ</td>\n",
       "      <td>krldtraffic</td>\n",
       "      <td>None</td>\n",
       "      <td>None</td>\n",
       "      <td>NCDOT_Triangle</td>\n",
       "      <td>traffic_nwa</td>\n",
       "      <td>WIBCTraffic</td>\n",
       "      <td>SJSOPIO</td>\n",
       "      <td>KPRC2Traffic</td>\n",
       "      <td>None</td>\n",
       "      <td>ScannerRadioDFW</td>\n",
       "      <td>MyNews13Traffic</td>\n",
       "      <td>TotalTrafficAUS</td>\n",
       "      <td>houstontranstar</td>\n",
       "    </tr>\n",
       "    <tr>\n",
       "      <th>2</th>\n",
       "      <td>None</td>\n",
       "      <td>None</td>\n",
       "      <td>NTTATravelAlert</td>\n",
       "      <td>None</td>\n",
       "      <td>None</td>\n",
       "      <td>NCDOT</td>\n",
       "      <td>myARDOT</td>\n",
       "      <td>None</td>\n",
       "      <td>None</td>\n",
       "      <td>TownshipTransit</td>\n",
       "      <td>None</td>\n",
       "      <td>DFWscanner</td>\n",
       "      <td>fl511_state</td>\n",
       "      <td>None</td>\n",
       "      <td>TotalTrafficHOU</td>\n",
       "    </tr>\n",
       "    <tr>\n",
       "      <th>3</th>\n",
       "      <td>None</td>\n",
       "      <td>None</td>\n",
       "      <td>cityofplanotx</td>\n",
       "      <td>None</td>\n",
       "      <td>None</td>\n",
       "      <td>RW911</td>\n",
       "      <td>None</td>\n",
       "      <td>None</td>\n",
       "      <td>None</td>\n",
       "      <td>None</td>\n",
       "      <td>None</td>\n",
       "      <td>None</td>\n",
       "      <td>None</td>\n",
       "      <td>None</td>\n",
       "      <td>None</td>\n",
       "    </tr>\n",
       "    <tr>\n",
       "      <th>4</th>\n",
       "      <td>None</td>\n",
       "      <td>None</td>\n",
       "      <td>None</td>\n",
       "      <td>None</td>\n",
       "      <td>None</td>\n",
       "      <td>NCDOT_I77</td>\n",
       "      <td>None</td>\n",
       "      <td>None</td>\n",
       "      <td>None</td>\n",
       "      <td>None</td>\n",
       "      <td>None</td>\n",
       "      <td>None</td>\n",
       "      <td>None</td>\n",
       "      <td>None</td>\n",
       "      <td>None</td>\n",
       "    </tr>\n",
       "  </tbody>\n",
       "</table>\n",
       "</div>"
      ],
      "text/plain": [
       "  Pahrump, Nevada Jersey City, New Jersey     Plano, Texas  \\\n",
       "0       nevadadot              NJDOT_info  TotalTrafficDFW   \n",
       "1            None                 511nyNJ      krldtraffic   \n",
       "2            None                    None  NTTATravelAlert   \n",
       "3            None                    None    cityofplanotx   \n",
       "4            None                    None             None   \n",
       "\n",
       "  Peachtree Corners, Georgia Miramar Beach, Florida Raleigh, North Carolina  \\\n",
       "0               PtreeCorners         fl511_panhandl         TotalTrafficRDU   \n",
       "1                       None                   None          NCDOT_Triangle   \n",
       "2                       None                   None                   NCDOT   \n",
       "3                       None                   None                   RW911   \n",
       "4                       None                   None               NCDOT_I77   \n",
       "\n",
       "  Rogers City, Arkansas  Carmel, Indiana St Augustine, Florida  \\\n",
       "0               myARDOT  QCTrafficAlerts       fl511_northeast   \n",
       "1           traffic_nwa      WIBCTraffic               SJSOPIO   \n",
       "2               myARDOT             None                  None   \n",
       "3                  None             None                  None   \n",
       "4                  None             None                  None   \n",
       "\n",
       "  The Woodlands, Texas Round Rock, Texas    Denton, Texas Kissimmee, Florida  \\\n",
       "0        ih45n_traffic         roundrock     DentonTweets      fl511_central   \n",
       "1         KPRC2Traffic              None  ScannerRadioDFW    MyNews13Traffic   \n",
       "2      TownshipTransit              None       DFWscanner        fl511_state   \n",
       "3                 None              None             None               None   \n",
       "4                 None              None             None               None   \n",
       "\n",
       "  San Marcos, Texas Sugar Land, Texas  \n",
       "0             TxDOT    SugarLandtxgov  \n",
       "1   TotalTrafficAUS   houstontranstar  \n",
       "2              None   TotalTrafficHOU  \n",
       "3              None              None  \n",
       "4              None              None  "
      ]
     },
     "execution_count": 22,
     "metadata": {},
     "output_type": "execute_result"
    }
   ],
   "source": [
    "data_f.columns = cities\n",
    "data_f"
   ]
  },
  {
   "cell_type": "code",
   "execution_count": 26,
   "metadata": {},
   "outputs": [],
   "source": [
    "def get_twitter_user_names(city_name, df = data_f):\n",
    "    \"\"\"\n",
    "    Returns the Twitter user names that you can plug later in the function: traffic, that get twitter updates.\n",
    "    \n",
    "    Parameters:\n",
    "    ----------\n",
    "    city_name: Enter the city name, state. All small letters, in this format. Example: \"round rock, texas\".\n",
    "    df: the dataframe of city names and their traffic Twitter user names. \n",
    "    \"\"\"\n",
    "    temp_df = data_f\n",
    "    temp_df.columns = [col.lower() for col in temp_df.columns]\n",
    "    try: \n",
    "        mask = temp_df[city_name].notna()\n",
    "        return list(temp_df.loc[mask, city_name])\n",
    "    except KeyError: \n",
    "        print(f'This City Does Not Have Twitter User Names Yet. Try From This List: {temp_df.columns}')"
   ]
  },
  {
   "cell_type": "code",
   "execution_count": 27,
   "metadata": {},
   "outputs": [
    {
     "name": "stdout",
     "output_type": "stream",
     "text": [
      "This City Does Not Have Twitter User Names Yet. Try From This List: Index(['pahrump, nevada', 'jersey city, new jersey', 'plano, texas',\n",
      "       'peachtree corners, georgia', 'miramar beach, florida',\n",
      "       'raleigh, north carolina', 'rogers city, arkansas', 'carmel, indiana',\n",
      "       'st augustine, florida', 'the woodlands, texas', 'round rock, texas',\n",
      "       'denton, texas', 'kissimmee, florida', 'san marcos, texas',\n",
      "       'sugar land, texas'],\n",
      "      dtype='object')\n"
     ]
    }
   ],
   "source": [
    "# testing the function:\n",
    "get_twitter_user_names('austin, texas')"
   ]
  },
  {
   "cell_type": "code",
   "execution_count": 30,
   "metadata": {},
   "outputs": [
    {
     "data": {
      "text/plain": [
       "['TotalTrafficDFW', 'krldtraffic', 'NTTATravelAlert', 'cityofplanotx']"
      ]
     },
     "execution_count": 30,
     "metadata": {},
     "output_type": "execute_result"
    }
   ],
   "source": [
    "get_twitter_user_names('plano, texas')"
   ]
  },
  {
   "cell_type": "markdown",
   "metadata": {},
   "source": [
    "Next, making a function that will go collect the most recent traffic tweets for us"
   ]
  },
  {
   "cell_type": "code",
   "execution_count": 33,
   "metadata": {},
   "outputs": [],
   "source": [
    "def gather_tweets(handle:str, n=300):\n",
    "    \"\"\"\n",
    "    Returns the most recent tweets (up to 200), from the selected Twitter username (handle)\n",
    "    \n",
    "    Parameters:\n",
    "    -----------\n",
    "    handle: name of the Twitter user page\n",
    "    n: how many tweets you want. can't get more than 200 \n",
    "    retrieves only recent tweets\n",
    "    \"\"\"\n",
    "    tweets_everything = api.user_timeline(handle, count = n)\n",
    "    df = pd.DataFrame(columns = ['id', 'tweets', 'date', 'location'])\n",
    "    \n",
    "    for i in tweets_everything:\n",
    "        tweets = i.text\n",
    "        try: \n",
    "            date = i.formatted_date\n",
    "        except: \n",
    "            date = i.created_at\n",
    "        \n",
    "        try:\n",
    "            location = i.geo['coordinates']\n",
    "        except: \n",
    "            try: \n",
    "                location = i.coordinates\n",
    "            except: \n",
    "                location = 'NaN'\n",
    "                \n",
    "        tweet_id = i.id # by the way, tweet_id is included in the permalink\n",
    "                \n",
    "        df.loc[len(df)] = [tweet_id, tweets, date, location] # inside the loop, building the df row by row\n",
    "        \n",
    "    return df"
   ]
  },
  {
   "cell_type": "markdown",
   "metadata": {},
   "source": [
    "The next function is user-interactive:"
   ]
  },
  {
   "cell_type": "code",
   "execution_count": 34,
   "metadata": {},
   "outputs": [],
   "source": [
    "def traffic(users = [\"TotalTrafficHOU\", \"houstontranstar\"]):\n",
    "    \"\"\"\n",
    "    This function takes an input a street name, and return the most live recent tweets from the traffic data frame.\n",
    "    Enter street name in all any case you like, upper, lower, mix..\n",
    "    \n",
    "    parameters: \n",
    "    users: a list of actual Twitter user names (found after the @ in their homepage on Twitter)\n",
    "    \n",
    "    \"\"\"\n",
    "    print('WARNING: If no users were passed, it will search Houston, TX traffic by default')\n",
    "    \n",
    "    if users == []:\n",
    "        users = [\"TotalTrafficHOU\", \"houstontranstar\"]\n",
    "        print(\"Empty users list passed; changed to default: Houston, TX traffic\")\n",
    "        \n",
    "    s = input('What street you want to find? ')\n",
    "    \n",
    "    # getting the df, in case there's more than 2 users: \n",
    "    lst = []\n",
    "    for u in users: \n",
    "        lst.append(gather_tweets(u))\n",
    "        \n",
    "    df = pd.concat(lst, \n",
    "              axis = 0, sort = False)\n",
    "    \n",
    "    mask = df['tweets'].str.contains(s, case = False) # case = False makes it not case sensitive!\n",
    "\n",
    "    \n",
    "    return df.loc[mask, 'tweets'].values[:15]\n",
    "# the tweets are ordered most recent first by nature; the first 15 tweets are the most recent. \n",
    "# since the resutls are not perfect, one will have information about other streets too"
   ]
  },
  {
   "cell_type": "code",
   "execution_count": 40,
   "metadata": {},
   "outputs": [
    {
     "name": "stdout",
     "output_type": "stream",
     "text": [
      "WARNING: If no users were passed, it will search Houston, TX traffic by default\n",
      "What street you want to find? i-10\n"
     ]
    },
    {
     "data": {
      "text/plain": [
       "array(['Accident cleared on I-45 N Fwy Outbound after I-10, stop and go traffic back to Scott, delay of 20 mins #traffic https://t.co/vuUN2yElDh',\n",
       "       'Accident. three left lanes blocked. on I-45 N Fwy Outbound after I-10, stop and go traffic back to Scott, delay of 20 mins #traffic',\n",
       "       'Closed due to accident in #Downtown on I-45 N Fwy Outbound after I-10 and before Quitman, stopped traffic back to Scott #traffic',\n",
       "       'Accident, left lane blocked on I-45 N Fwy Outbound after I-10, stop and go traffic back to Scott, delay of 11 mins #traffic',\n",
       "       'Accident cleared in #EnergyCorridor on I-10 Katy Fwy Inbound after Kirkwood, stop and go traffic back to Dairy Ashford, delay of 3 mins',\n",
       "       'Accident, center lane blocked in #EnergyCorridor on I-10 Katy Fwy Inbound after Kirkwood, stop and go traffic back to Dairy Ashford #traffic',\n",
       "       'Vehicle fire cleared in #Northshore on I-10 E Fwy Outbound after Normandy, stop and go traffic back to Federal, delay of 10 mins #traffic',\n",
       "       'Vehicle fire. all lanes blocked. in #Northshore on I-10 E Fwy Outbound approaching Normandy and before Uvalde, st... https://t.co/vuUN2yElDh',\n",
       "       'Vehicle fire. all lanes blocked. in #Northshore on I-10 E Fwy Outbound after Normandy and before Uvalde, stopped traffic back to Federal',\n",
       "       'Accident. three right lanes blocked in #WestSide on I-10 WB before Barker Cypress #traffic https://t.co/vuUN2yElDh',\n",
       "       'Accident blocks two right lanes in #WestSide on I-10 EB at Westgreen Blvd, stop and go traffic back to Mason, delay of 3 mins #traffic',\n",
       "       'Accident cleared in #Downtown on US-69 SB between I-10 and The George R Brown, stop and go traffic back to I-10, delay of 2 mins #traffic',\n",
       "       'Closed due to accident in #Downtown on US-69 SB between I-10 and The George R Brown, stopped traffic back to I-10 #traffic',\n",
       "       'Accident in #Downtown on I-45 NB at N. Main, stop and go traffic back to I-10, delay of 4 mins #traffic https://t.co/vuUN2yElDh',\n",
       "       'Accident in #Houston on I-45 SB near Louisiana St, stop and go traffic back to I-10, delay of 5 mins #traffic https://t.co/vuUN2yElDh'],\n",
       "      dtype=object)"
      ]
     },
     "execution_count": 40,
     "metadata": {},
     "output_type": "execute_result"
    }
   ],
   "source": [
    "# testing the function:\n",
    "traffic()"
   ]
  },
  {
   "cell_type": "code",
   "execution_count": 46,
   "metadata": {},
   "outputs": [
    {
     "data": {
      "text/plain": [
       "['pahrump, nevada',\n",
       " 'jersey city, new jersey',\n",
       " 'plano, texas',\n",
       " 'peachtree corners, georgia',\n",
       " 'miramar beach, florida',\n",
       " 'raleigh, north carolina',\n",
       " 'rogers city, arkansas',\n",
       " 'carmel, indiana',\n",
       " 'st augustine, florida',\n",
       " 'the woodlands, texas',\n",
       " 'round rock, texas',\n",
       " 'denton, texas',\n",
       " 'kissimmee, florida',\n",
       " 'san marcos, texas',\n",
       " 'sugar land, texas']"
      ]
     },
     "execution_count": 46,
     "metadata": {},
     "output_type": "execute_result"
    }
   ],
   "source": [
    "# recall that our options for cities are:\n",
    "[col for col in data_f]"
   ]
  },
  {
   "cell_type": "code",
   "execution_count": 48,
   "metadata": {},
   "outputs": [
    {
     "data": {
      "text/plain": [
       "['TotalTrafficDFW', 'krldtraffic', 'NTTATravelAlert', 'cityofplanotx']"
      ]
     },
     "execution_count": 48,
     "metadata": {},
     "output_type": "execute_result"
    }
   ],
   "source": [
    "get_twitter_user_names('plano, texas')"
   ]
  },
  {
   "cell_type": "markdown",
   "metadata": {},
   "source": [
    "To use this function from a first responder, call the traffic function and pass is the function that get the Twitter usernames, like this:"
   ]
  },
  {
   "cell_type": "code",
   "execution_count": 50,
   "metadata": {},
   "outputs": [
    {
     "name": "stdout",
     "output_type": "stream",
     "text": [
      "WARNING: If no users were passed, it will search Houston, TX traffic by default\n",
      "What street you want to find? 75\n"
     ]
    },
    {
     "data": {
      "text/plain": [
       "array(['Stalled vehicle. right lane on nb exit ramp blocked in #Dallas on 635 LBJ Fwy WB at 75 Central Expwy #DFWTraffic https://t.co/4NzBppXRvr',\n",
       "       'Accident cleared in #Dallas on 75 SB approaching NW Hwy, stop and go traffic back to Spg Vly Rd, delay of 16 mins #DFWTraffic',\n",
       "       'Accident. two left lanes blocked in #Dallas on 75 SB approaching NW Hwy, stop and go traffic back to Spg Vly Rd, delay of 21 mins',\n",
       "       'Disabled cleared in #Dallas on 75 SB approaching Caruth Haven Ln, stop and go traffic back to Spg Vly Rd, delay of 31 mins #DFWTraffic',\n",
       "       'Disabled cleared in #Dallas on 75 SB approaching Caruth Haven Ln, stop and go traffic back to 635 Lbj Frwy, delay of 18 mins #DFWTraffic',\n",
       "       'Disabled vehicle, left lane blocked in #Dallas on 75 SB approaching Caruth Haven Ln, stop and go traffic back to 635 Lbj Frwy #DFWTraffic',\n",
       "       'Disabled vehicle, left lane blocked in #Dallas on 75 SB approaching Caruth Haven Ln, stop and go traffic back to Royal Ln, delay of 14 mins',\n",
       "       'Disabled vehicle, left lane blocked in #Dallas on 75 SB approaching Caruth Haven Ln, stop and go traffic back to Walnut Hl Ln #DFWTraffic',\n",
       "       'Disabled vehicle, left lane blocked in #Dallas on 75 SB approaching Caruth Haven Ln, stop and go traffic back to Park Ln, delay of 3 mins',\n",
       "       'Disabled vehicle, left lane blocked in #Dallas on 75 SB at Caruth Haven Ln, stop and go traffic back to NW Hwy, delay of 1 min #DFWTraffic',\n",
       "       'Closed due to road construction in #Anna on 75 NB between E CR 370 and after Mantua Rd, stopped traffic back to Melissa Rd, delay of 18 mins',\n",
       "       'Closed due to road construction in #Anna on 75 NB between E CR 370 and after Mantua Rd #DFWTraffic https://t.co/4NzBppXRvr',\n",
       "       'Closed due to accident in #Anna on 75 NB at Cnty Rd 364, stopped traffic back to Hwy 121 #DFWTraffic https://t.co/4NzBppXRvr',\n",
       "       'Closed due to accident in #Anna on 75 NB at Cnty Rd 364, stopped traffic back to Hwy 121, delay of 25 mins… https://t.co/GlxoVIXjRP',\n",
       "       'Accident, left lane blocked in #Dallas on 20 WB at St Augustine Dr, stop and go traffic back to Hwy 175, delay of 4 mins #DFWTraffic'],\n",
       "      dtype=object)"
      ]
     },
     "execution_count": 50,
     "metadata": {},
     "output_type": "execute_result"
    }
   ],
   "source": [
    "traffic(get_twitter_user_names('plano, texas'))"
   ]
  },
  {
   "cell_type": "code",
   "execution_count": null,
   "metadata": {},
   "outputs": [],
   "source": []
  }
 ],
 "metadata": {
  "kernelspec": {
   "display_name": "Python 3",
   "language": "python",
   "name": "python3"
  },
  "language_info": {
   "codemirror_mode": {
    "name": "ipython",
    "version": 3
   },
   "file_extension": ".py",
   "mimetype": "text/x-python",
   "name": "python",
   "nbconvert_exporter": "python",
   "pygments_lexer": "ipython3",
   "version": "3.6.8"
  }
 },
 "nbformat": 4,
 "nbformat_minor": 2
}
